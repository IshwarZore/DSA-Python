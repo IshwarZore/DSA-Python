# -----------------------------
# Step 1: Import Libraries
# -----------------------------
import pandas as pd
import numpy as np

# -----------------------------
# Step 2: Create a DataFrame
# -----------------------------
data = {
    'Name': ['Alice', 'Bob', 'Charlie', 'David', 'Eva'],
    'Age': [25, 30, 35, 40, 29],
    'Gender': ['F', 'M', 'M', 'M', 'F'],
    'Department': ['HR', 'Finance', 'IT', 'IT', 'HR'],
    'Salary': [50000, 60000, 75000, 80000, 52000],
    'Joining_Date': pd.to_datetime(['2018-05-01', '2019-07-23', '2020-06-15', '2017-03-10', '2021-01-20'])
}

df = pd.DataFrame(data)

# -----------------------------
# Step 3: Basic Operations
# -----------------------------
print(df.head())
print(df.tail())
print(df.info())
print(df.describe())
print(df.columns)
print(df.index)
print(df.shape)

# -----------------------------
# Step 4: Selection & Filtering
# -----------------------------
df['Name']
df[['Name', 'Salary']]
df.iloc[0]                # Row by index
df.loc[0, 'Salary']       # Value by label
df[df['Salary'] > 60000]
df[(df['Department'] == 'IT') & (df['Salary'] > 75000)]

# -----------------------------
# Step 5: Add / Modify / Delete Columns
# -----------------------------
df['Tax'] = df['Salary'] * 0.1
df['Senior'] = df['Age'] > 30
df.drop('Tax', axis=1, inplace=True)
del df['Senior']

# -----------------------------
# Step 6: Groupby and Aggregation
# -----------------------------
df.groupby('Department')['Salary'].mean()
df.groupby('Department').agg({'Salary': ['mean', 'max'], 'Age': 'median'})

# -----------------------------
# Step 7: Sorting
# -----------------------------
df.sort_values(by='Salary', ascending=False)
df.sort_values(by=['Department', 'Salary'])

# -----------------------------
# Step 8: Missing Values
# -----------------------------
df_with_nan = df.copy()
df_with_nan.loc[2, 'Salary'] = np.nan
df_with_nan.isna().sum()
df_with_nan.fillna(df_with_nan['Salary'].mean(), inplace=True)

# -----------------------------
# Step 9: Date Handling
# -----------------------------
df['Year'] = df['Joining_Date'].dt.year
df['Month'] = df['Joining_Date'].dt.month
df['Day'] = df['Joining_Date'].dt.day

# -----------------------------
# Step 10: Merging & Joining
# -----------------------------
dept_info = pd.DataFrame({
    'Department': ['HR', 'Finance', 'IT'],
    'Location': ['Pune', 'Mumbai', 'Bangalore']
})

df = df.merge(dept_info, on='Department', how='left')

# -----------------------------
# Step 11: Export / Import
# -----------------------------
# df.to_csv('employee_data.csv', index=False)
# df_loaded = pd.read_csv('employee_data.csv')

# -----------------------------
# PRACTICE QUESTIONS
# -----------------------------
# 1. What is the average salary of each gender?
# 2. Find the youngest employee in each department.
# 3. Add a column for "Experience in Years" using today's date and Joining_Date.
# 4. Filter employees who joined before 2020 and have salary > 60000.
# 5. Sort the data by age (descending) and then by salary (ascending).
# 6. Group by department and gender and find average age and salary.

# Try implementing each question step by step using df.