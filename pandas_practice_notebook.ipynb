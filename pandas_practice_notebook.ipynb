{
 "cells": [
  {
   "cell_type": "code",
   "execution_count": null,
   "id": "df-intro",
   "metadata": {},
   "outputs": [],
   "source": [
    "import pandas as pd\n",
    "import numpy as np"
   ]
  },
  {
   "cell_type": "code",
   "execution_count": null,
   "id": "df-creation",
   "metadata": {},
   "outputs": [],
   "source": [
    "data = {\n",
    "    'Name': ['Alice', 'Bob', 'Charlie', 'David', 'Eva'],\n",
    "    'Age': [25, 30, 35, 40, 29],\n",
    "    'Gender': ['F', 'M', 'M', 'M', 'F'],\n",
    "    'Department': ['HR', 'Finance', 'IT', 'IT', 'HR'],\n",
    "    'Salary': [50000, 60000, 75000, 80000, 52000],\n",
    "    'Joining_Date': pd.to_datetime(['2018-05-01', '2019-07-23', '2020-06-15', '2017-03-10', '2021-01-20'])\n",
    "}\n",
    "df = pd.DataFrame(data)\n",
    "df"
   ]
  },
  {
   "cell_type": "markdown",
   "metadata": {},
   "id": "practice-questions",
   "source": [
    "### Practice Questions:\n",
    "\n",
    "1. What is the average salary of each gender?\n",
    "2. Find the youngest employee in each department.\n",
    "3. Add a column for \"Experience in Years\" using today's date and Joining_Date.\n",
    "4. Filter employees who joined before 2020 and have salary > 60000.\n",
    "5. Sort the data by age (descending) and then by salary (ascending).\n",
    "6. Group by department and gender and find average age and salary."
   ]
  }
 ],
 "metadata": {
  "kernelspec": {
   "display_name": "Python 3",
   "language": "python",
   "name": "python3"
  },
  "language_info": {
   "name": "python",
   "version": "3.9"
  }
 },
 "nbformat": 4,
 "nbformat_minor": 5
}
