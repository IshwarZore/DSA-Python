{
  "cells": [
    {
      "cell_type": "markdown",
      "metadata": {},
      "source": [
        "# Pandas Syntax and Usage\n",
        "In this notebook, we will cover the essential Pandas syntax step by step.\n",
        "Pandas is one of the most used libraries in data analysis and manipulation.\n",
        "We will also incorporate the sample data and questions from your previous work.\n"
      ]
    },
    {
      "cell_type": "code",
      "execution_count": 1,
      "metadata": {},
      "outputs": [],
      "source": [
        "# Importing pandas and setting up\n",
        "import pandas as pd\n",
        "import numpy as np\n",
        "\n",
        "# Sample data (to be used with questions above)\n",
        "data = {\n",
        "    'Name': ['Alice', 'Bob', 'Charlie', 'David', 'Edward'],\n",
        "    'Age': [24, 27, 22, 32, 29],\n",
        "    'Score': [85, 92, 88, 79, 95],\n",
        "    'City': ['New York', 'Los Angeles', 'Chicago', 'Houston', 'Phoenix']\n",
        "}\n",
        "\n",
        "# Creating DataFrame\n",
        "df = pd.DataFrame(data)\n",
        "df"
      ]
    },
    {
      "cell_type": "markdown",
      "metadata": {},
      "source": [
        "### 1. Creating DataFrame\n",
        "We created a DataFrame from a dictionary. Here is the basic syntax:\n",
        "\n",
        "```python\n",
        "df = pd.DataFrame(data)\n",
        "```\n",
        "This `DataFrame` is a 2-dimensional labeled data structure with columns of potentially different types. Let's move on to some operations!"
      ]
    },
    {
      "cell_type": "code",
      "execution_count": 2,
      "metadata": {},
      "outputs": [],
      "source": [
        "# Selecting a single column\n",
        "df['Age']"
      ]
    },
    {
      "cell_type": "markdown",
      "metadata": {},
      "source": [
        "### 2. Selecting Columns\n",
        "To select a single column in a DataFrame, use the syntax `df['column_name']`:\n",
        "\n",
        "```python\n",
        "df['Age']\n",
        "```\n",
        "This will return the 'Age' column from the DataFrame. You can also select multiple columns by passing a list of column names."
      ]
    },
    {
      "cell_type": "code",
      "execution_count": 3,
      "metadata": {},
      "outputs": [],
      "source": [
        "# Selecting multiple columns\n",
        "df[['Name', 'Score']]"
      ]
    },
    {
      "cell_type": "markdown",
      "metadata": {},
      "source": [
        "### 3. Selecting Multiple Columns\n",
        "To select multiple columns, use a list of column names inside double brackets:\n",
        "\n",
        "```python\n",
        "df[['Name', 'Score']]\n",
        "```\n",
        "This will return only the 'Name' and 'Score' columns."
      ]
    },
    {
      "cell_type": "code",
      "execution_count": 4,
      "metadata": {},
      "outputs": [],
      "source": [
        "# Filtering rows based on a condition\n",
        "df[df['Age'] > 25]"
      ]
    },
    {
      "cell_type": "markdown",
      "metadata": {},
      "source": [
        "### 4. Filtering Rows\n",
        "To filter rows based on a condition, use a boolean condition. For example, filtering people older than 25:\n",
        "\n",
        "```python\n",
        "df[df['Age'] > 25]\n",
        "```\n",
        "This will return only the rows where 'Age' is greater than 25."
      ]
    },
    {
      "cell_type": "code",
      "execution_count": 5,
      "metadata": {},
      "outputs": [],
      "source": [
        "# Sorting data\n",
        "df.sort_values(by='Score', ascending=False)"
      ]
    },
    {
      "cell_type": "markdown",
      "metadata": {},
      "source": [
        "### 5. Sorting Data\n",
        "You can sort data based on column values. To sort by the 'Score' column in descending order:\n",
        "\n",
        "```python\n",
        "df.sort_values(by='Score', ascending=False)\n",
        "```\n",
        "The `ascending=False` argument sorts the values in descending order. Set it to `True` for ascending order."
      ]
    },
    {
      "cell_type": "code",
      "execution_count": 6,
      "metadata": {},
      "outputs": [],
      "source": [
        "# Grouping data\n",
        "df.groupby('City')['Score'].mean()"
      ]
    },
    {
      "cell_type": "markdown",
      "metadata": {},
      "source": [
        "### 6. Grouping Data\n",
        "Pandas allows you to group data and perform aggregate functions on it. For example, to calculate the average score by city:\n",
        "\n",
        "```python\n",
        "df.groupby('City')['Score'].mean()\n",
        "```\n",
        "This groups the DataFrame by the 'City' column and calculates the mean score for each group."
      ]
    },
    {
      "cell_type": "code",
      "execution_count": 7,
      "metadata": {},
      "outputs": [],
      "source": [
        "# Adding a new column\n",
        "df['Age Group'] = ['Young' if age < 30 else 'Old' for age in df['Age']]\n",
        "df"
      ]
    },
    {
      "cell_type": "markdown",
      "metadata": {},
      "source": [
        "### 7. Adding a New Column\n",
        "To add a new column, you can assign values to a new column name. For example, to add an 'Age Group' column based on age:\n",
        "\n",
        "```python\n",
        "df['Age Group'] = ['Young' if age < 30 else 'Old' for age in df['Age']]\n",
        "```\n",
        "This will create a new column 'Age Group' based on the age value."
      ]
    },
    {
      "cell_type": "code",
      "execution_count": 8,
      "metadata": {},
      "outputs": [],
      "source": [
        "# Handling missing data\n",
        "df_missing = df.copy()\n",
        "df_missing.loc[2, 'Age'] = np.nan\n",
        "df_missing.fillna(df_missing.mean())"
      ]
    },
    {
      "cell_type": "markdown",
      "metadata": {},
      "source": [
        "### 8. Handling Missing Data\n",
        "Pandas provides tools to handle missing data. For example, you can fill missing values with the mean:\n",
        "\n",
        "```python\n",
        "df_missing.fillna(df_missing.mean())\n",
        "```\n",
        "This will replace missing values (NaN) with the column mean."
      ]
    },
    {
      "cell_type": "code",
      "execution_count": 9,
      "metadata": {},
      "outputs": [],
      "source": [
        "# Merging DataFrames\n",
        "df1 = pd.DataFrame({'ID': [1, 2, 3], 'Name': ['Alice', 'Bob', 'Charlie']})\n",
        "df2 = pd.DataFrame({'ID': [1, 2, 3], 'Age': [24, 27, 22]})\n",
        "merged_df = pd.merge(df1, df2, on='ID')\n",
        "merged_df"
      ]
    },
    {
      "cell_type": "markdown",
      "metadata": {},
      "source": [
        "### 9. Merging DataFrames\n",
        "To merge DataFrames, use the `pd.merge()` function. For example, merging two DataFrames on the 'ID' column:\n",
        "\n",
        "```python\n",
        "merged_df = pd.merge(df1, df2, on='ID')\n",
        "```\n",
        "This will combine the two DataFrames based on the common 'ID' column."
      ]
    },
    {
      "cell_type": "code",
      "execution_count": 10,
      "metadata": {},
      "outputs": [],
      "source": [
        "# Saving the DataFrame to a CSV file\n",
        "df.to_csv('output.csv', index=False)"
      ]
    },
    {
      "cell_type": "markdown",
      "metadata": {},
      "source": [
        "### 10. Saving DataFrame to CSV\n",
        "You can save your DataFrame to a CSV file using the `to_csv()` function:\n",
        "\n",
        "```python\n",
        "df.to_csv('output.csv', index=False)\n",
        "```\n",
        "This will save the DataFrame to a CSV file named 'output.csv'."
      ]
    }
  ],
  "metadata": {
    "kernelspec": {
      "display_name": "Python 3",
      "language": "python",
      "name": "python3"
    },
    "language_info": {
      "codemirror_mode": {
        "name": "ipython",
        "version": 3
      },
      "file_extension": ".py",
      "mimetype": "text/x-python",
      "name": "python",
      "nbconvert_exporter": "python",
      "version": "3.8.10"
    }
  },
  "nbformat": 4,
  "nbformat_minor": 5
}
